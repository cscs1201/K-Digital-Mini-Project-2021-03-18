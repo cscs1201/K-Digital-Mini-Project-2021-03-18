{
 "cells": [
  {
   "cell_type": "code",
   "execution_count": 1,
   "metadata": {},
   "outputs": [],
   "source": [
    "import keras"
   ]
  },
  {
   "cell_type": "code",
   "execution_count": 2,
   "metadata": {},
   "outputs": [],
   "source": [
    "import glob\n",
    "import os"
   ]
  },
  {
   "cell_type": "code",
   "execution_count": 8,
   "metadata": {},
   "outputs": [],
   "source": [
    "import pandas as pd"
   ]
  },
  {
   "cell_type": "code",
   "execution_count": 7,
   "metadata": {},
   "outputs": [
    {
     "name": "stdout",
     "output_type": "stream",
     "text": [
      "['C:\\\\jupyter_leeji\\\\머신러닝_10_자연어\\\\소스_ALL_자연어_전처리와_Keras분류학습\\\\data\\\\land\\\\clean\\\\land_news_naver_20190809_01.csv', 'C:\\\\jupyter_leeji\\\\머신러닝_10_자연어\\\\소스_ALL_자연어_전처리와_Keras분류학습\\\\data\\\\land\\\\clean\\\\land_news_naver_20190809_02.csv', 'C:\\\\jupyter_leeji\\\\머신러닝_10_자연어\\\\소스_ALL_자연어_전처리와_Keras분류학습\\\\data\\\\land\\\\clean\\\\land_news_naver_20190809_03.csv', 'C:\\\\jupyter_leeji\\\\머신러닝_10_자연어\\\\소스_ALL_자연어_전처리와_Keras분류학습\\\\data\\\\land\\\\clean\\\\land_news_naver_20190809_04.csv']\n"
     ]
    }
   ],
   "source": [
    "input_file = r'C:\\jupyter_leeji\\머신러닝_10_자연어\\소스_ALL_자연어_전처리와_Keras분류학습\\data\\land\\clean' #문자열은 잘 닫아야 한다...\n",
    "output_file = r'C:\\jupyter_leeji\\머신러닝_10_자연어\\소스_ALL_자연어_전처리와_Keras분류학습\\data\\land\\land_all.csv'\n",
    "allFile_list = glob.glob(os.path.join(input_file, 'land_news_*'))\n",
    "#print(allFile_list)\n",
    "\n"
   ]
  },
  {
   "cell_type": "code",
   "execution_count": 16,
   "metadata": {},
   "outputs": [
    {
     "name": "stdout",
     "output_type": "stream",
     "text": [
      "C:\\jupyter_leeji\\머신러닝_10_자연어\\소스_ALL_자연어_전처리와_Keras분류학습\\data\\land\\clean\\land_news_naver_20190809_01.csv\n"
     ]
    },
    {
     "ename": "AttributeError",
     "evalue": "type object 'str' has no attribute 'i'",
     "output_type": "error",
     "traceback": [
      "\u001b[1;31m---------------------------------------------------------------------------\u001b[0m",
      "\u001b[1;31mAttributeError\u001b[0m                            Traceback (most recent call last)",
      "\u001b[1;32m<ipython-input-16-6977b7ab356b>\u001b[0m in \u001b[0;36m<module>\u001b[1;34m\u001b[0m\n\u001b[0;32m      5\u001b[0m     \u001b[0ma\u001b[0m\u001b[1;33m=\u001b[0m\u001b[1;36m1\u001b[0m\u001b[1;31m#최소 한번은 실행되니 do 문?\u001b[0m\u001b[1;33m\u001b[0m\u001b[1;33m\u001b[0m\u001b[0m\n\u001b[0;32m      6\u001b[0m     \u001b[0mprint\u001b[0m\u001b[1;33m(\u001b[0m\u001b[0mi\u001b[0m\u001b[1;33m)\u001b[0m\u001b[1;33m\u001b[0m\u001b[1;33m\u001b[0m\u001b[0m\n\u001b[1;32m----> 7\u001b[1;33m     \u001b[0mdf0\u001b[0m \u001b[1;33m=\u001b[0m \u001b[0mpd\u001b[0m\u001b[1;33m.\u001b[0m\u001b[0mread_csv\u001b[0m\u001b[1;33m(\u001b[0m\u001b[0mstr\u001b[0m\u001b[1;33m.\u001b[0m\u001b[0mi\u001b[0m\u001b[1;33m)\u001b[0m \u001b[1;31m# 한번 for 문이 돌때마다 다른 파일에 저장될수는 없는건가?\u001b[0m\u001b[1;33m\u001b[0m\u001b[1;33m\u001b[0m\u001b[0m\n\u001b[0m\u001b[0;32m      8\u001b[0m     \u001b[0mprint\u001b[0m\u001b[1;33m(\u001b[0m\u001b[1;36m0\u001b[0m\u001b[1;33m)\u001b[0m\u001b[1;33m\u001b[0m\u001b[1;33m\u001b[0m\u001b[0m\n\u001b[0;32m      9\u001b[0m \u001b[1;33m\u001b[0m\u001b[0m\n",
      "\u001b[1;31mAttributeError\u001b[0m: type object 'str' has no attribute 'i'"
     ]
    }
   ],
   "source": [
    "# # mt_test1 = pd.read_csv(allFile_list)\n",
    "# df = pd.DataFrame\n",
    "\n",
    "# for i in allFile_list:\n",
    "#     a=1#최소 한번은 실행되니 do 문?\n",
    "#     print(i)\n",
    "#     df0 = pd.read_csv(str.i) # 한번 for 문이 돌때마다 다른 파일에 저장될수는 없는건가?\n",
    "#     print(0)\n",
    "\n",
    "#     #     df = pd.concat([df,df0])\n",
    "#     #print(df)"
   ]
  },
  {
   "cell_type": "code",
   "execution_count": 17,
   "metadata": {},
   "outputs": [],
   "source": [
    "allData= [] # 읽어 드린 csv 파일 내용을 저장할 빈 리스트 하나 생성\n",
    "for file in allFile_list:\n",
    "    df = pd.read_csv(file, engine='python') # csv 파일 읽어드리기\n",
    "    allData.append(df)"
   ]
  },
  {
   "cell_type": "code",
   "execution_count": 18,
   "metadata": {},
   "outputs": [
    {
     "data": {
      "text/plain": [
       "[                            숨 강동 송파 서초 아파트 값 상 승률 뚝   1\n",
       " 0                                         뉴시스 관심 등록   1\n",
       " 1                    서울 재건축 일반 아파트 모두 전주 대비 상승 폭 축소   1\n",
       " 2                            일산 이번 주 하락 신도시 중 최대 낙폭   1\n",
       " 3  임병철 부동산 수석 연구원 집값 상승세 제동 것 서울 뉴시스 고범준 기자 서울 강남...  1,\n",
       "                 송파 헬리 오 프리미엄   1\n",
       " 0               아시아 경제 관심 등록   1\n",
       " 1  민간 택지 분양 상한 제 여파 새 아파트 수요   1\n",
       " 2                      최초 분양   1\n",
       " 3                       최근 배   1,\n",
       "                                 주간 청량리역 롯데 캐슬 등 가구   1\n",
       " 0                                           닥터 아파트   1\n",
       " 1  월 마지막 주 청약물량 곳 가구 모델하우스 곳 오픈 예정 당첨 발표 곳 당첨 계약 곳   1,\n",
       "               서울 셋값 상 승률 전주   1\n",
       " 0  분양 상한 제 기준금리 인하 상방 압력 요인   1]"
      ]
     },
     "execution_count": 18,
     "metadata": {},
     "output_type": "execute_result"
    }
   ],
   "source": [
    "allData"
   ]
  },
  {
   "cell_type": "code",
   "execution_count": 23,
   "metadata": {},
   "outputs": [],
   "source": [
    "dataCombine = pd.concat(allData, axis=0, ignore_index=True) # 함수를 이용해서 리스트의 내용의 병함 , 수평으로 병햡,"
   ]
  },
  {
   "cell_type": "code",
   "execution_count": 24,
   "metadata": {},
   "outputs": [
    {
     "data": {
      "text/html": [
       "<div>\n",
       "<style scoped>\n",
       "    .dataframe tbody tr th:only-of-type {\n",
       "        vertical-align: middle;\n",
       "    }\n",
       "\n",
       "    .dataframe tbody tr th {\n",
       "        vertical-align: top;\n",
       "    }\n",
       "\n",
       "    .dataframe thead th {\n",
       "        text-align: right;\n",
       "    }\n",
       "</style>\n",
       "<table border=\"1\" class=\"dataframe\">\n",
       "  <thead>\n",
       "    <tr style=\"text-align: right;\">\n",
       "      <th></th>\n",
       "      <th>숨 강동 송파 서초 아파트 값 상 승률 뚝</th>\n",
       "      <th>1</th>\n",
       "      <th>송파 헬리 오 프리미엄</th>\n",
       "      <th>주간 청량리역 롯데 캐슬 등 가구</th>\n",
       "      <th>서울 셋값 상 승률 전주</th>\n",
       "    </tr>\n",
       "  </thead>\n",
       "  <tbody>\n",
       "    <tr>\n",
       "      <th>0</th>\n",
       "      <td>뉴시스 관심 등록</td>\n",
       "      <td>1</td>\n",
       "      <td>NaN</td>\n",
       "      <td>NaN</td>\n",
       "      <td>NaN</td>\n",
       "    </tr>\n",
       "    <tr>\n",
       "      <th>1</th>\n",
       "      <td>서울 재건축 일반 아파트 모두 전주 대비 상승 폭 축소</td>\n",
       "      <td>1</td>\n",
       "      <td>NaN</td>\n",
       "      <td>NaN</td>\n",
       "      <td>NaN</td>\n",
       "    </tr>\n",
       "    <tr>\n",
       "      <th>2</th>\n",
       "      <td>일산 이번 주 하락 신도시 중 최대 낙폭</td>\n",
       "      <td>1</td>\n",
       "      <td>NaN</td>\n",
       "      <td>NaN</td>\n",
       "      <td>NaN</td>\n",
       "    </tr>\n",
       "    <tr>\n",
       "      <th>3</th>\n",
       "      <td>임병철 부동산 수석 연구원 집값 상승세 제동 것 서울 뉴시스 고범준 기자 서울 강남...</td>\n",
       "      <td>1</td>\n",
       "      <td>NaN</td>\n",
       "      <td>NaN</td>\n",
       "      <td>NaN</td>\n",
       "    </tr>\n",
       "    <tr>\n",
       "      <th>4</th>\n",
       "      <td>NaN</td>\n",
       "      <td>1</td>\n",
       "      <td>아시아 경제 관심 등록</td>\n",
       "      <td>NaN</td>\n",
       "      <td>NaN</td>\n",
       "    </tr>\n",
       "    <tr>\n",
       "      <th>5</th>\n",
       "      <td>NaN</td>\n",
       "      <td>1</td>\n",
       "      <td>민간 택지 분양 상한 제 여파 새 아파트 수요</td>\n",
       "      <td>NaN</td>\n",
       "      <td>NaN</td>\n",
       "    </tr>\n",
       "    <tr>\n",
       "      <th>6</th>\n",
       "      <td>NaN</td>\n",
       "      <td>1</td>\n",
       "      <td>최초 분양</td>\n",
       "      <td>NaN</td>\n",
       "      <td>NaN</td>\n",
       "    </tr>\n",
       "    <tr>\n",
       "      <th>7</th>\n",
       "      <td>NaN</td>\n",
       "      <td>1</td>\n",
       "      <td>최근 배</td>\n",
       "      <td>NaN</td>\n",
       "      <td>NaN</td>\n",
       "    </tr>\n",
       "    <tr>\n",
       "      <th>8</th>\n",
       "      <td>NaN</td>\n",
       "      <td>1</td>\n",
       "      <td>NaN</td>\n",
       "      <td>닥터 아파트</td>\n",
       "      <td>NaN</td>\n",
       "    </tr>\n",
       "    <tr>\n",
       "      <th>9</th>\n",
       "      <td>NaN</td>\n",
       "      <td>1</td>\n",
       "      <td>NaN</td>\n",
       "      <td>월 마지막 주 청약물량 곳 가구 모델하우스 곳 오픈 예정 당첨 발표 곳 당첨 계약 곳</td>\n",
       "      <td>NaN</td>\n",
       "    </tr>\n",
       "    <tr>\n",
       "      <th>10</th>\n",
       "      <td>NaN</td>\n",
       "      <td>1</td>\n",
       "      <td>NaN</td>\n",
       "      <td>NaN</td>\n",
       "      <td>분양 상한 제 기준금리 인하 상방 압력 요인</td>\n",
       "    </tr>\n",
       "  </tbody>\n",
       "</table>\n",
       "</div>"
      ],
      "text/plain": [
       "                             숨 강동 송파 서초 아파트 값 상 승률 뚝   1  \\\n",
       "0                                          뉴시스 관심 등록   1   \n",
       "1                     서울 재건축 일반 아파트 모두 전주 대비 상승 폭 축소   1   \n",
       "2                             일산 이번 주 하락 신도시 중 최대 낙폭   1   \n",
       "3   임병철 부동산 수석 연구원 집값 상승세 제동 것 서울 뉴시스 고범준 기자 서울 강남...  1   \n",
       "4                                                 NaN  1   \n",
       "5                                                 NaN  1   \n",
       "6                                                 NaN  1   \n",
       "7                                                 NaN  1   \n",
       "8                                                 NaN  1   \n",
       "9                                                 NaN  1   \n",
       "10                                                NaN  1   \n",
       "                 송파 헬리 오 프리미엄   \\\n",
       "0                          NaN   \n",
       "1                          NaN   \n",
       "2                          NaN   \n",
       "3                          NaN   \n",
       "4                아시아 경제 관심 등록    \n",
       "5   민간 택지 분양 상한 제 여파 새 아파트 수요    \n",
       "6                       최초 분양    \n",
       "7                        최근 배    \n",
       "8                          NaN   \n",
       "9                          NaN   \n",
       "10                         NaN   \n",
       "\n",
       "                                 주간 청량리역 롯데 캐슬 등 가구   \\\n",
       "0                                                NaN   \n",
       "1                                                NaN   \n",
       "2                                                NaN   \n",
       "3                                                NaN   \n",
       "4                                                NaN   \n",
       "5                                                NaN   \n",
       "6                                                NaN   \n",
       "7                                                NaN   \n",
       "8                                            닥터 아파트    \n",
       "9   월 마지막 주 청약물량 곳 가구 모델하우스 곳 오픈 예정 당첨 발표 곳 당첨 계약 곳    \n",
       "10                                               NaN   \n",
       "\n",
       "               서울 셋값 상 승률 전주   \n",
       "0                         NaN  \n",
       "1                         NaN  \n",
       "2                         NaN  \n",
       "3                         NaN  \n",
       "4                         NaN  \n",
       "5                         NaN  \n",
       "6                         NaN  \n",
       "7                         NaN  \n",
       "8                         NaN  \n",
       "9                         NaN  \n",
       "10  분양 상한 제 기준금리 인하 상방 압력 요인   "
      ]
     },
     "execution_count": 24,
     "metadata": {},
     "output_type": "execute_result"
    }
   ],
   "source": [
    "dataCombine #뭔가 많이 잘못됬는대...."
   ]
  },
  {
   "cell_type": "code",
   "execution_count": 29,
   "metadata": {},
   "outputs": [],
   "source": [
    "# 그냥 외부 프로그램으로 합쳐버림...\n",
    "\n",
    "sum_news = pd.read_csv('sum_news_naver.csv')\n",
    "#sum_news\n",
    "# 아무튼 성공임 그런거임"
   ]
  },
  {
   "cell_type": "code",
   "execution_count": 34,
   "metadata": {},
   "outputs": [
    {
     "data": {
      "text/plain": [
       "0     이데일리 김정현 기자 원 달러 환율 폭 상승 마감 날 원 달러 환율 방향 견인 국내...\n",
       "1     코스피 거래 일 반등 코스피지수 전 거래 일보 포인트 오른 장 코스닥 수도 포인트 ...\n",
       "2     코스피 거래 일 반등 코스피지수 전 거래 일보 포인트 오른 장 코스닥 수도 포인트 ...\n",
       "3                          지난주 무역 분쟁 격화 환율 요동 일본 갈등 폭락 \n",
       "4                           중국 지표 발표 트럼프 입 주시 코스피 선 예상 \n",
       "5     실적 시즌 마감 인플레이션 기대 반도체 자동차 배당 주목 미국 중국 무역 분쟁 격화...\n",
       "6                              숨 강동 송파 서초 아파트 값 상 승률 뚝 \n",
       "7                                            뉴시스 관심 등록 \n",
       "8                       서울 재건축 일반 아파트 모두 전주 대비 상승 폭 축소 \n",
       "9                               일산 이번 주 하락 신도시 중 최대 낙폭 \n",
       "10    임병철 부동산 수석 연구원 집값 상승세 제동 것 서울 뉴시스 고범준 기자 서울 강남...\n",
       "11                                        송파 헬리 오 프리미엄 \n",
       "12                                        아시아 경제 관심 등록 \n",
       "13                           민간 택지 분양 상한 제 여파 새 아파트 수요 \n",
       "14                                               최초 분양 \n",
       "15                                                최근 배 \n",
       "16                                  주간 청량리역 롯데 캐슬 등 가구 \n",
       "17                                              닥터 아파트 \n",
       "18     월 마지막 주 청약물량 곳 가구 모델하우스 곳 오픈 예정 당첨 발표 곳 당첨 계약 곳 \n",
       "19                                       서울 셋값 상 승률 전주 \n",
       "20                            분양 상한 제 기준금리 인하 상방 압력 요인 \n",
       "Name: data, dtype: object"
      ]
     },
     "execution_count": 34,
     "metadata": {},
     "output_type": "execute_result"
    }
   ],
   "source": [
    "# sum_news.loc('data')\n",
    "# sum_news.loc(,0)\n",
    "sum_news.columns\n",
    "sum_news['data']"
   ]
  },
  {
   "cell_type": "code",
   "execution_count": 36,
   "metadata": {},
   "outputs": [
    {
     "ename": "TypeError",
     "evalue": "'str' object does not support item assignment",
     "output_type": "error",
     "traceback": [
      "\u001b[1;31m---------------------------------------------------------------------------\u001b[0m",
      "\u001b[1;31mTypeError\u001b[0m                                 Traceback (most recent call last)",
      "\u001b[1;32m<ipython-input-36-d5711ace02bd>\u001b[0m in \u001b[0;36m<module>\u001b[1;34m\u001b[0m\n\u001b[0;32m      1\u001b[0m \u001b[1;32mimport\u001b[0m \u001b[0mrandom\u001b[0m\u001b[1;33m\u001b[0m\u001b[1;33m\u001b[0m\u001b[0m\n\u001b[1;32m----> 2\u001b[1;33m \u001b[0mrandom\u001b[0m\u001b[1;33m.\u001b[0m\u001b[0mshuffle\u001b[0m\u001b[1;33m(\u001b[0m\u001b[1;34m'sum_news'\u001b[0m\u001b[1;33m)\u001b[0m\u001b[1;33m\u001b[0m\u001b[1;33m\u001b[0m\u001b[0m\n\u001b[0m\u001b[0;32m      3\u001b[0m \u001b[0msum_news\u001b[0m\u001b[1;33m\u001b[0m\u001b[1;33m\u001b[0m\u001b[0m\n",
      "\u001b[1;32m~\\anaconda3\\lib\\random.py\u001b[0m in \u001b[0;36mshuffle\u001b[1;34m(self, x, random)\u001b[0m\n\u001b[0;32m    276\u001b[0m                 \u001b[1;31m# pick an element in x[:i+1] with which to exchange x[i]\u001b[0m\u001b[1;33m\u001b[0m\u001b[1;33m\u001b[0m\u001b[1;33m\u001b[0m\u001b[0m\n\u001b[0;32m    277\u001b[0m                 \u001b[0mj\u001b[0m \u001b[1;33m=\u001b[0m \u001b[0mrandbelow\u001b[0m\u001b[1;33m(\u001b[0m\u001b[0mi\u001b[0m\u001b[1;33m+\u001b[0m\u001b[1;36m1\u001b[0m\u001b[1;33m)\u001b[0m\u001b[1;33m\u001b[0m\u001b[1;33m\u001b[0m\u001b[0m\n\u001b[1;32m--> 278\u001b[1;33m                 \u001b[0mx\u001b[0m\u001b[1;33m[\u001b[0m\u001b[0mi\u001b[0m\u001b[1;33m]\u001b[0m\u001b[1;33m,\u001b[0m \u001b[0mx\u001b[0m\u001b[1;33m[\u001b[0m\u001b[0mj\u001b[0m\u001b[1;33m]\u001b[0m \u001b[1;33m=\u001b[0m \u001b[0mx\u001b[0m\u001b[1;33m[\u001b[0m\u001b[0mj\u001b[0m\u001b[1;33m]\u001b[0m\u001b[1;33m,\u001b[0m \u001b[0mx\u001b[0m\u001b[1;33m[\u001b[0m\u001b[0mi\u001b[0m\u001b[1;33m]\u001b[0m\u001b[1;33m\u001b[0m\u001b[1;33m\u001b[0m\u001b[0m\n\u001b[0m\u001b[0;32m    279\u001b[0m         \u001b[1;32melse\u001b[0m\u001b[1;33m:\u001b[0m\u001b[1;33m\u001b[0m\u001b[1;33m\u001b[0m\u001b[0m\n\u001b[0;32m    280\u001b[0m             \u001b[0m_int\u001b[0m \u001b[1;33m=\u001b[0m \u001b[0mint\u001b[0m\u001b[1;33m\u001b[0m\u001b[1;33m\u001b[0m\u001b[0m\n",
      "\u001b[1;31mTypeError\u001b[0m: 'str' object does not support item assignment"
     ]
    }
   ],
   "source": [
    "# random.shuffle('sum_news')\n",
    "sum_news"
   ]
  },
  {
   "cell_type": "code",
   "execution_count": 37,
   "metadata": {},
   "outputs": [
    {
     "ename": "AttributeError",
     "evalue": "'DataFrame' object has no attribute 'shuffle'",
     "output_type": "error",
     "traceback": [
      "\u001b[1;31m---------------------------------------------------------------------------\u001b[0m",
      "\u001b[1;31mAttributeError\u001b[0m                            Traceback (most recent call last)",
      "\u001b[1;32m<ipython-input-37-c141d1dcbb4f>\u001b[0m in \u001b[0;36m<module>\u001b[1;34m\u001b[0m\n\u001b[1;32m----> 1\u001b[1;33m \u001b[0msum_news\u001b[0m \u001b[1;33m=\u001b[0m \u001b[0msum_news\u001b[0m\u001b[1;33m.\u001b[0m\u001b[0mshuffle\u001b[0m\u001b[1;33m(\u001b[0m\u001b[1;33m)\u001b[0m\u001b[1;33m\u001b[0m\u001b[1;33m\u001b[0m\u001b[0m\n\u001b[0m",
      "\u001b[1;32m~\\anaconda3\\lib\\site-packages\\pandas\\core\\generic.py\u001b[0m in \u001b[0;36m__getattr__\u001b[1;34m(self, name)\u001b[0m\n\u001b[0;32m   5272\u001b[0m             \u001b[1;32mif\u001b[0m \u001b[0mself\u001b[0m\u001b[1;33m.\u001b[0m\u001b[0m_info_axis\u001b[0m\u001b[1;33m.\u001b[0m\u001b[0m_can_hold_identifiers_and_holds_name\u001b[0m\u001b[1;33m(\u001b[0m\u001b[0mname\u001b[0m\u001b[1;33m)\u001b[0m\u001b[1;33m:\u001b[0m\u001b[1;33m\u001b[0m\u001b[1;33m\u001b[0m\u001b[0m\n\u001b[0;32m   5273\u001b[0m                 \u001b[1;32mreturn\u001b[0m \u001b[0mself\u001b[0m\u001b[1;33m[\u001b[0m\u001b[0mname\u001b[0m\u001b[1;33m]\u001b[0m\u001b[1;33m\u001b[0m\u001b[1;33m\u001b[0m\u001b[0m\n\u001b[1;32m-> 5274\u001b[1;33m             \u001b[1;32mreturn\u001b[0m \u001b[0mobject\u001b[0m\u001b[1;33m.\u001b[0m\u001b[0m__getattribute__\u001b[0m\u001b[1;33m(\u001b[0m\u001b[0mself\u001b[0m\u001b[1;33m,\u001b[0m \u001b[0mname\u001b[0m\u001b[1;33m)\u001b[0m\u001b[1;33m\u001b[0m\u001b[1;33m\u001b[0m\u001b[0m\n\u001b[0m\u001b[0;32m   5275\u001b[0m \u001b[1;33m\u001b[0m\u001b[0m\n\u001b[0;32m   5276\u001b[0m     \u001b[1;32mdef\u001b[0m \u001b[0m__setattr__\u001b[0m\u001b[1;33m(\u001b[0m\u001b[0mself\u001b[0m\u001b[1;33m,\u001b[0m \u001b[0mname\u001b[0m\u001b[1;33m:\u001b[0m \u001b[0mstr\u001b[0m\u001b[1;33m,\u001b[0m \u001b[0mvalue\u001b[0m\u001b[1;33m)\u001b[0m \u001b[1;33m->\u001b[0m \u001b[1;32mNone\u001b[0m\u001b[1;33m:\u001b[0m\u001b[1;33m\u001b[0m\u001b[1;33m\u001b[0m\u001b[0m\n",
      "\u001b[1;31mAttributeError\u001b[0m: 'DataFrame' object has no attribute 'shuffle'"
     ]
    }
   ],
   "source": [
    "sum_news = sum_news.shuffle()"
   ]
  },
  {
   "cell_type": "code",
   "execution_count": 38,
   "metadata": {},
   "outputs": [
    {
     "data": {
      "text/plain": [
       "[['이데일리 김정현 기자 원 달러 환율 폭 상승 마감 날 원 달러 환율 방향 견인 국내외 모멘텀 것 다만 수입 업체 결제 수요 달러화 점 매수 유입 환율 상승 것 풀이 ',\n",
       "  0],\n",
       " ['코스피 거래 일 반등 코스피지수 전 거래 일보 포인트 오른 장 코스닥 수도 포인트 급등 를 기록 안팎 오른 미국 중국 등 국 증시 비교 가장 상 승률 ',\n",
       "  0],\n",
       " ['코스피 거래 일 반등 코스피지수 전 거래 일보 포인트 오른 장 코스닥 수도 포인트 급등 를 기록 안팎 오른 미국 중국 등 국 증시 비교 가장 상 승률 ',\n",
       "  0],\n",
       " ['지난주 무역 분쟁 격화 환율 요동 일본 갈등 폭락 ', 0],\n",
       " ['중국 지표 발표 트럼프 입 주시 코스피 선 예상 ', 0],\n",
       " ['실적 시즌 마감 인플레이션 기대 반도체 자동차 배당 주목 미국 중국 무역 분쟁 격화 환율 폭락 국내 증시 이번 주 반등 기회 마련 전망 무역 분쟁 지속 영향 마땅 국내 주식 살 주체 일 전쟁 대한 우려 때문 이로 당분간 관망 세 가운데 중 무역 분쟁 관련 뉴스 위안화 가치 변동 등락 장세 지속 것 ',\n",
       "  0],\n",
       " ['숨 강동 송파 서초 아파트 값 상 승률 뚝 ', 1],\n",
       " ['뉴시스 관심 등록 ', 1],\n",
       " ['서울 재건축 일반 아파트 모두 전주 대비 상승 폭 축소 ', 1],\n",
       " ['일산 이번 주 하락 신도시 중 최대 낙폭 ', 1],\n",
       " ['임병철 부동산 수석 연구원 집값 상승세 제동 것 서울 뉴시스 고범준 기자 서울 강남 지역 전세 공급 부족 정도 지표 최저 수준 주택 시장 동향 지난달 기준 서울 강남 세수 지수 로 기준 를 기록 이후 가장 수준 세수 지수 전세 공급 부족 정도 지표 수치 전세 공급 부족 전세 수요 부족 뜻 사진 오후 서울 송파구 서울 아파트 단지 모습 서울 뉴시스 박영환 기자 민간 택지 분양 상한 제 도입 초읽기 서울 아파트 값 오름 폭 크게 둔화 재건축 일반 아파트 모두 상승 폭 ',\n",
       "  1],\n",
       " ['송파 헬리 오 프리미엄 ', 1],\n",
       " ['아시아 경제 관심 등록 ', 1],\n",
       " ['민간 택지 분양 상한 제 여파 새 아파트 수요 ', 1],\n",
       " ['최초 분양 ', 1],\n",
       " ['최근 배 ', 1],\n",
       " ['주간 청량리역 롯데 캐슬 등 가구 ', 1],\n",
       " ['닥터 아파트 ', 1],\n",
       " ['월 마지막 주 청약물량 곳 가구 모델하우스 곳 오픈 예정 당첨 발표 곳 당첨 계약 곳 ', 1],\n",
       " ['서울 셋값 상 승률 전주 ', 1],\n",
       " ['분양 상한 제 기준금리 인하 상방 압력 요인 ', 1]]"
      ]
     },
     "execution_count": 38,
     "metadata": {},
     "output_type": "execute_result"
    }
   ],
   "source": [
    "x_t = sum_news['data']\n",
    "y_t = sum_news['class']\n",
    "\n",
    "tmp = [[x,y] for x,y in zip(x_t,y_t)]\n",
    "tmp\n"
   ]
  },
  {
   "cell_type": "code",
   "execution_count": 39,
   "metadata": {},
   "outputs": [
    {
     "data": {
      "text/plain": [
       "[['중국 지표 발표 트럼프 입 주시 코스피 선 예상 ', 0],\n",
       " ['숨 강동 송파 서초 아파트 값 상 승률 뚝 ', 1],\n",
       " ['실적 시즌 마감 인플레이션 기대 반도체 자동차 배당 주목 미국 중국 무역 분쟁 격화 환율 폭락 국내 증시 이번 주 반등 기회 마련 전망 무역 분쟁 지속 영향 마땅 국내 주식 살 주체 일 전쟁 대한 우려 때문 이로 당분간 관망 세 가운데 중 무역 분쟁 관련 뉴스 위안화 가치 변동 등락 장세 지속 것 ',\n",
       "  0],\n",
       " ['송파 헬리 오 프리미엄 ', 1],\n",
       " ['최근 배 ', 1],\n",
       " ['닥터 아파트 ', 1],\n",
       " ['코스피 거래 일 반등 코스피지수 전 거래 일보 포인트 오른 장 코스닥 수도 포인트 급등 를 기록 안팎 오른 미국 중국 등 국 증시 비교 가장 상 승률 ',\n",
       "  0],\n",
       " ['임병철 부동산 수석 연구원 집값 상승세 제동 것 서울 뉴시스 고범준 기자 서울 강남 지역 전세 공급 부족 정도 지표 최저 수준 주택 시장 동향 지난달 기준 서울 강남 세수 지수 로 기준 를 기록 이후 가장 수준 세수 지수 전세 공급 부족 정도 지표 수치 전세 공급 부족 전세 수요 부족 뜻 사진 오후 서울 송파구 서울 아파트 단지 모습 서울 뉴시스 박영환 기자 민간 택지 분양 상한 제 도입 초읽기 서울 아파트 값 오름 폭 크게 둔화 재건축 일반 아파트 모두 상승 폭 ',\n",
       "  1],\n",
       " ['분양 상한 제 기준금리 인하 상방 압력 요인 ', 1],\n",
       " ['일산 이번 주 하락 신도시 중 최대 낙폭 ', 1],\n",
       " ['민간 택지 분양 상한 제 여파 새 아파트 수요 ', 1],\n",
       " ['아시아 경제 관심 등록 ', 1],\n",
       " ['월 마지막 주 청약물량 곳 가구 모델하우스 곳 오픈 예정 당첨 발표 곳 당첨 계약 곳 ', 1],\n",
       " ['코스피 거래 일 반등 코스피지수 전 거래 일보 포인트 오른 장 코스닥 수도 포인트 급등 를 기록 안팎 오른 미국 중국 등 국 증시 비교 가장 상 승률 ',\n",
       "  0],\n",
       " ['서울 셋값 상 승률 전주 ', 1],\n",
       " ['최초 분양 ', 1],\n",
       " ['지난주 무역 분쟁 격화 환율 요동 일본 갈등 폭락 ', 0],\n",
       " ['주간 청량리역 롯데 캐슬 등 가구 ', 1],\n",
       " ['뉴시스 관심 등록 ', 1],\n",
       " ['이데일리 김정현 기자 원 달러 환율 폭 상승 마감 날 원 달러 환율 방향 견인 국내외 모멘텀 것 다만 수입 업체 결제 수요 달러화 점 매수 유입 환율 상승 것 풀이 ',\n",
       "  0],\n",
       " ['서울 재건축 일반 아파트 모두 전주 대비 상승 폭 축소 ', 1]]"
      ]
     },
     "execution_count": 39,
     "metadata": {},
     "output_type": "execute_result"
    }
   ],
   "source": [
    "import random\n",
    "random.shuffle(tmp)\n",
    "tmp"
   ]
  },
  {
   "cell_type": "code",
   "execution_count": 45,
   "metadata": {},
   "outputs": [
    {
     "ename": "ValueError",
     "evalue": "not enough values to unpack (expected 4, got 2)",
     "output_type": "error",
     "traceback": [
      "\u001b[1;31m---------------------------------------------------------------------------\u001b[0m",
      "\u001b[1;31mValueError\u001b[0m                                Traceback (most recent call last)",
      "\u001b[1;32m<ipython-input-45-9379b1b7f802>\u001b[0m in \u001b[0;36m<module>\u001b[1;34m\u001b[0m\n\u001b[0;32m      5\u001b[0m \u001b[1;31m# 출처: https://ebbnflow.tistory.com/126 [Dev Log : 삶은 확률의 구름]\u001b[0m\u001b[1;33m\u001b[0m\u001b[1;33m\u001b[0m\u001b[1;33m\u001b[0m\u001b[0m\n\u001b[0;32m      6\u001b[0m \u001b[1;33m\u001b[0m\u001b[0m\n\u001b[1;32m----> 7\u001b[1;33m \u001b[0mX_train\u001b[0m\u001b[1;33m,\u001b[0m \u001b[0mX_test\u001b[0m\u001b[1;33m,\u001b[0m \u001b[0mY_train\u001b[0m\u001b[1;33m,\u001b[0m \u001b[0mY_test\u001b[0m \u001b[1;33m=\u001b[0m \u001b[0mtrain_test_split\u001b[0m\u001b[1;33m(\u001b[0m\u001b[0mtmp\u001b[0m\u001b[1;33m,\u001b[0m\u001b[0mrandom_state\u001b[0m\u001b[1;33m=\u001b[0m\u001b[1;36m66\u001b[0m\u001b[1;33m,\u001b[0m\u001b[0mshuffle\u001b[0m\u001b[1;33m=\u001b[0m\u001b[1;32mTrue\u001b[0m\u001b[1;33m)\u001b[0m\u001b[1;33m\u001b[0m\u001b[1;33m\u001b[0m\u001b[0m\n\u001b[0m",
      "\u001b[1;31mValueError\u001b[0m: not enough values to unpack (expected 4, got 2)"
     ]
    }
   ],
   "source": [
    "\n",
    "#그냥 처음부터 나눠라야...\n",
    "\n",
    "from sklearn.model_selection import train_test_split\n",
    "\n",
    "# 출처: https://ebbnflow.tistory.com/126 [Dev Log : 삶은 확률의 구름]\n",
    "\n",
    "X_train, X_test, Y_train, Y_test = train_test_split(tmp,random_state=66,shuffle=True)"
   ]
  },
  {
   "cell_type": "code",
   "execution_count": 49,
   "metadata": {},
   "outputs": [],
   "source": [
    "X_train, X_test= train_test_split(sum_news,random_state=66,shuffle=True)"
   ]
  },
  {
   "cell_type": "code",
   "execution_count": 50,
   "metadata": {},
   "outputs": [
    {
     "data": {
      "text/html": [
       "<div>\n",
       "<style scoped>\n",
       "    .dataframe tbody tr th:only-of-type {\n",
       "        vertical-align: middle;\n",
       "    }\n",
       "\n",
       "    .dataframe tbody tr th {\n",
       "        vertical-align: top;\n",
       "    }\n",
       "\n",
       "    .dataframe thead th {\n",
       "        text-align: right;\n",
       "    }\n",
       "</style>\n",
       "<table border=\"1\" class=\"dataframe\">\n",
       "  <thead>\n",
       "    <tr style=\"text-align: right;\">\n",
       "      <th></th>\n",
       "      <th>data</th>\n",
       "      <th>class</th>\n",
       "    </tr>\n",
       "  </thead>\n",
       "  <tbody>\n",
       "    <tr>\n",
       "      <th>17</th>\n",
       "      <td>닥터 아파트</td>\n",
       "      <td>1</td>\n",
       "    </tr>\n",
       "    <tr>\n",
       "      <th>8</th>\n",
       "      <td>서울 재건축 일반 아파트 모두 전주 대비 상승 폭 축소</td>\n",
       "      <td>1</td>\n",
       "    </tr>\n",
       "    <tr>\n",
       "      <th>2</th>\n",
       "      <td>코스피 거래 일 반등 코스피지수 전 거래 일보 포인트 오른 장 코스닥 수도 포인트 ...</td>\n",
       "      <td>0</td>\n",
       "    </tr>\n",
       "    <tr>\n",
       "      <th>14</th>\n",
       "      <td>최초 분양</td>\n",
       "      <td>1</td>\n",
       "    </tr>\n",
       "    <tr>\n",
       "      <th>6</th>\n",
       "      <td>숨 강동 송파 서초 아파트 값 상 승률 뚝</td>\n",
       "      <td>1</td>\n",
       "    </tr>\n",
       "    <tr>\n",
       "      <th>12</th>\n",
       "      <td>아시아 경제 관심 등록</td>\n",
       "      <td>1</td>\n",
       "    </tr>\n",
       "    <tr>\n",
       "      <th>11</th>\n",
       "      <td>송파 헬리 오 프리미엄</td>\n",
       "      <td>1</td>\n",
       "    </tr>\n",
       "    <tr>\n",
       "      <th>7</th>\n",
       "      <td>뉴시스 관심 등록</td>\n",
       "      <td>1</td>\n",
       "    </tr>\n",
       "    <tr>\n",
       "      <th>0</th>\n",
       "      <td>이데일리 김정현 기자 원 달러 환율 폭 상승 마감 날 원 달러 환율 방향 견인 국내...</td>\n",
       "      <td>0</td>\n",
       "    </tr>\n",
       "    <tr>\n",
       "      <th>18</th>\n",
       "      <td>월 마지막 주 청약물량 곳 가구 모델하우스 곳 오픈 예정 당첨 발표 곳 당첨 계약 곳</td>\n",
       "      <td>1</td>\n",
       "    </tr>\n",
       "    <tr>\n",
       "      <th>10</th>\n",
       "      <td>임병철 부동산 수석 연구원 집값 상승세 제동 것 서울 뉴시스 고범준 기자 서울 강남...</td>\n",
       "      <td>1</td>\n",
       "    </tr>\n",
       "    <tr>\n",
       "      <th>15</th>\n",
       "      <td>최근 배</td>\n",
       "      <td>1</td>\n",
       "    </tr>\n",
       "    <tr>\n",
       "      <th>13</th>\n",
       "      <td>민간 택지 분양 상한 제 여파 새 아파트 수요</td>\n",
       "      <td>1</td>\n",
       "    </tr>\n",
       "    <tr>\n",
       "      <th>19</th>\n",
       "      <td>서울 셋값 상 승률 전주</td>\n",
       "      <td>1</td>\n",
       "    </tr>\n",
       "    <tr>\n",
       "      <th>20</th>\n",
       "      <td>분양 상한 제 기준금리 인하 상방 압력 요인</td>\n",
       "      <td>1</td>\n",
       "    </tr>\n",
       "  </tbody>\n",
       "</table>\n",
       "</div>"
      ],
      "text/plain": [
       "                                                 data  class\n",
       "17                                            닥터 아파트       1\n",
       "8                     서울 재건축 일반 아파트 모두 전주 대비 상승 폭 축소       1\n",
       "2   코스피 거래 일 반등 코스피지수 전 거래 일보 포인트 오른 장 코스닥 수도 포인트 ...      0\n",
       "14                                             최초 분양       1\n",
       "6                            숨 강동 송파 서초 아파트 값 상 승률 뚝       1\n",
       "12                                      아시아 경제 관심 등록       1\n",
       "11                                      송파 헬리 오 프리미엄       1\n",
       "7                                          뉴시스 관심 등록       1\n",
       "0   이데일리 김정현 기자 원 달러 환율 폭 상승 마감 날 원 달러 환율 방향 견인 국내...      0\n",
       "18   월 마지막 주 청약물량 곳 가구 모델하우스 곳 오픈 예정 당첨 발표 곳 당첨 계약 곳       1\n",
       "10  임병철 부동산 수석 연구원 집값 상승세 제동 것 서울 뉴시스 고범준 기자 서울 강남...      1\n",
       "15                                              최근 배       1\n",
       "13                         민간 택지 분양 상한 제 여파 새 아파트 수요       1\n",
       "19                                     서울 셋값 상 승률 전주       1\n",
       "20                          분양 상한 제 기준금리 인하 상방 압력 요인       1"
      ]
     },
     "execution_count": 50,
     "metadata": {},
     "output_type": "execute_result"
    }
   ],
   "source": [
    "X_train"
   ]
  },
  {
   "cell_type": "code",
   "execution_count": 51,
   "metadata": {},
   "outputs": [],
   "source": [
    "import numpy as np"
   ]
  },
  {
   "cell_type": "code",
   "execution_count": 54,
   "metadata": {},
   "outputs": [],
   "source": [
    "# def te(c):\n",
    "#     ad = c+1\n",
    "#     dd = c*2\n",
    "#     return ad, dd\n",
    "\n",
    "# a1,a2=te(2)"
   ]
  },
  {
   "cell_type": "code",
   "execution_count": 56,
   "metadata": {},
   "outputs": [
    {
     "data": {
      "text/plain": [
       "4"
      ]
     },
     "execution_count": 56,
     "metadata": {},
     "output_type": "execute_result"
    }
   ],
   "source": [
    "# a2 #잠시 테스트를 해봄 한번에 두개가 리턴 가능하다 이거지... 하긴 그러니까 스풀링이..."
   ]
  },
  {
   "cell_type": "code",
   "execution_count": 57,
   "metadata": {},
   "outputs": [],
   "source": [
    "from keras_preprocessing.text import Tokenizer"
   ]
  },
  {
   "cell_type": "code",
   "execution_count": 63,
   "metadata": {},
   "outputs": [
    {
     "name": "stdout",
     "output_type": "stream",
     "text": [
      "sequences :  [[185, 2], [1, 60, 61, 2, 62, 63, 135, 5, 4, 136], [21, 7, 22, 23, 39, 40, 7, 41, 8, 9, 42, 43, 44, 8, 45, 24, 25, 46, 9, 26, 10, 27, 47, 28, 48, 29, 11, 12], [178, 17], [131, 132, 56, 133, 2, 57, 11, 12, 134], [174, 175, 58, 59], [56, 171, 172, 173], [32, 58, 59], [74, 75, 19, 36, 37, 3, 4, 5, 38, 76, 36, 37, 3, 77, 78, 79, 80, 6, 81, 82, 83, 84, 20, 85, 86, 87, 88, 3, 5, 6, 89], [186, 187, 31, 188, 18, 72, 189, 18, 190, 191, 73, 51, 18, 73, 192, 18], [142, 143, 144, 145, 146, 147, 148, 6, 1, 32, 149, 19, 1, 64, 150, 15, 33, 16, 65, 30, 151, 66, 152, 153, 154, 155, 67, 1, 64, 68, 69, 156, 67, 24, 25, 157, 29, 66, 68, 69, 15, 33, 16, 65, 30, 158, 15, 33, 16, 15, 20, 16, 159, 160, 161, 1, 162, 1, 2, 163, 164, 1, 32, 165, 19, 70, 71, 17, 34, 35, 166, 167, 1, 2, 57, 168, 4, 169, 170, 60, 61, 2, 62, 5, 4], [179, 180], [70, 71, 17, 34, 35, 176, 177, 2, 20], [1, 193, 11, 12, 63], [17, 34, 35, 194, 195, 196, 197, 198]]\n",
      "one_hot_results :  [[0. 0. 1. ... 0. 0. 0.]\n",
      " [0. 1. 1. ... 0. 0. 0.]\n",
      " [0. 0. 0. ... 0. 0. 0.]\n",
      " ...\n",
      " [0. 0. 1. ... 0. 0. 0.]\n",
      " [0. 1. 0. ... 0. 0. 0.]\n",
      " [0. 0. 0. ... 0. 0. 0.]]\n",
      "sequences :  [[21, 7, 22, 23, 39, 40, 7, 41, 8, 9, 42, 43, 44, 8, 45, 24, 25, 46, 9, 26, 10, 27, 47, 28, 48, 29, 11, 12], [181, 182, 183, 184, 27, 72], [10, 30, 51, 94, 95, 96, 21, 97, 98], [99, 100, 38, 101, 102, 103, 104, 105, 106, 26, 10, 13, 14, 49, 3, 50, 52, 28, 53, 31, 23, 107, 108, 109, 13, 14, 54, 110, 111, 52, 112, 113, 114, 22, 115, 116, 117, 118, 119, 120, 121, 122, 123, 55, 13, 14, 124, 125, 126, 127, 128, 129, 130, 54, 6], [90, 13, 14, 49, 3, 91, 92, 93, 50], [137, 53, 31, 138, 139, 55, 140, 141]]\n",
      "one_hot_results :  [[0. 0. 0. ... 0. 0. 0.]\n",
      " [0. 0. 0. ... 0. 0. 0.]\n",
      " [0. 0. 0. ... 0. 0. 0.]\n",
      " [0. 0. 0. ... 0. 0. 0.]\n",
      " [0. 0. 0. ... 0. 0. 0.]\n",
      " [0. 0. 0. ... 0. 0. 0.]]\n"
     ]
    }
   ],
   "source": [
    "def one_hot(x_in):\n",
    "    x_data = x_in['data']\n",
    "    x_class = x_in['class']\n",
    "    tokenizer = Tokenizer(num_words=1000)\n",
    "    # 단어 인덱스 구축\n",
    "    tokenizer.fit_on_texts(sum_news['data'])\n",
    "#     return tokenizer.index_word, tokenizer.word_index\n",
    "    sequences = tokenizer.texts_to_sequences(x_data)\n",
    "    print(\"sequences : \", sequences)\n",
    "    one_hot_results = tokenizer.texts_to_matrix(x_data, mode = 'binary')\n",
    "    print(\"one_hot_results : \", one_hot_results)\n",
    "    return one_hot_results, x_class\n",
    "\n",
    "x_train, y_train = one_hot(X_train)\n",
    "x_text, y_text = one_hot(X_test)"
   ]
  },
  {
   "cell_type": "code",
   "execution_count": 71,
   "metadata": {},
   "outputs": [],
   "source": [
    "y_train = np.asarray(y_train).astype('float32')\n",
    "y_text =np.asarray(y_text).astype('float32')\n",
    "#근대 이 과정이 꼭 필요한가? 일단 주석처리해 해보고 나중에 해볼까?"
   ]
  },
  {
   "cell_type": "code",
   "execution_count": 72,
   "metadata": {},
   "outputs": [],
   "source": [
    "from keras import models\n",
    "from keras import layers\n",
    "\n",
    "model = models.Sequential()\n",
    "model.add(layers.Dense(16,activation='relu',input_shape=(10000,)))\n",
    "model.add(layers.Dense(16,activation='relu'))\n",
    "model.add(layers.Dense(1, activation='sigmoid'))\n",
    "\n",
    "model.compile(optimizer='rmsprop',\n",
    "             loss='binary_crossentropy',\n",
    "             metrics=['accuracy'])"
   ]
  },
  {
   "cell_type": "code",
   "execution_count": 73,
   "metadata": {},
   "outputs": [],
   "source": [
    "x_val = x_train[:100000]\n",
    "partial_x_train = x_train[100000:]\n",
    "\n",
    "y_val = y_train[:100000]2\n",
    "partial_y_train = y_train[100000:]"
   ]
  },
  {
   "cell_type": "code",
   "execution_count": 77,
   "metadata": {},
   "outputs": [
    {
     "name": "stdout",
     "output_type": "stream",
     "text": [
      "Epoch 1/20\n"
     ]
    },
    {
     "ename": "ValueError",
     "evalue": "Expect x to be a non-empty array or dataset.",
     "output_type": "error",
     "traceback": [
      "\u001b[1;31m---------------------------------------------------------------------------\u001b[0m",
      "\u001b[1;31mValueError\u001b[0m                                Traceback (most recent call last)",
      "\u001b[1;32m<ipython-input-77-5cb9905ea242>\u001b[0m in \u001b[0;36m<module>\u001b[1;34m\u001b[0m\n\u001b[0;32m      3\u001b[0m                    \u001b[0mepochs\u001b[0m\u001b[1;33m=\u001b[0m\u001b[1;36m20\u001b[0m\u001b[1;33m,\u001b[0m\u001b[1;33m\u001b[0m\u001b[1;33m\u001b[0m\u001b[0m\n\u001b[0;32m      4\u001b[0m                    \u001b[0mbatch_size\u001b[0m\u001b[1;33m=\u001b[0m\u001b[1;36m5\u001b[0m\u001b[1;33m,\u001b[0m \u001b[1;31m#너무 클수도 있다 나중에 조정해 볼껏 (처음 512)\u001b[0m\u001b[1;33m\u001b[0m\u001b[1;33m\u001b[0m\u001b[0m\n\u001b[1;32m----> 5\u001b[1;33m                    validation_data=(x_val,y_val))\n\u001b[0m",
      "\u001b[1;32m~\\anaconda3\\lib\\site-packages\\tensorflow\\python\\keras\\engine\\training.py\u001b[0m in \u001b[0;36mfit\u001b[1;34m(self, x, y, batch_size, epochs, verbose, callbacks, validation_split, validation_data, shuffle, class_weight, sample_weight, initial_epoch, steps_per_epoch, validation_steps, validation_batch_size, validation_freq, max_queue_size, workers, use_multiprocessing)\u001b[0m\n\u001b[0;32m   1108\u001b[0m \u001b[1;33m\u001b[0m\u001b[0m\n\u001b[0;32m   1109\u001b[0m         \u001b[1;32mif\u001b[0m \u001b[0mlogs\u001b[0m \u001b[1;32mis\u001b[0m \u001b[1;32mNone\u001b[0m\u001b[1;33m:\u001b[0m\u001b[1;33m\u001b[0m\u001b[1;33m\u001b[0m\u001b[0m\n\u001b[1;32m-> 1110\u001b[1;33m           \u001b[1;32mraise\u001b[0m \u001b[0mValueError\u001b[0m\u001b[1;33m(\u001b[0m\u001b[1;34m'Expect x to be a non-empty array or dataset.'\u001b[0m\u001b[1;33m)\u001b[0m\u001b[1;33m\u001b[0m\u001b[1;33m\u001b[0m\u001b[0m\n\u001b[0m\u001b[0;32m   1111\u001b[0m         \u001b[0mepoch_logs\u001b[0m \u001b[1;33m=\u001b[0m \u001b[0mcopy\u001b[0m\u001b[1;33m.\u001b[0m\u001b[0mcopy\u001b[0m\u001b[1;33m(\u001b[0m\u001b[0mlogs\u001b[0m\u001b[1;33m)\u001b[0m\u001b[1;33m\u001b[0m\u001b[1;33m\u001b[0m\u001b[0m\n\u001b[0;32m   1112\u001b[0m \u001b[1;33m\u001b[0m\u001b[0m\n",
      "\u001b[1;31mValueError\u001b[0m: Expect x to be a non-empty array or dataset."
     ]
    }
   ],
   "source": [
    "history = model.fit(partial_x_train,\n",
    "                   partial_y_train,\n",
    "                   epochs=20,\n",
    "                   batch_size=512, #너무 클수도 있다 나중에 조정해 볼껏 (처음 512)\n",
    "                   validation_data=(x_val,y_val))"
   ]
  },
  {
   "cell_type": "code",
   "execution_count": null,
   "metadata": {},
   "outputs": [],
   "source": []
  }
 ],
 "metadata": {
  "kernelspec": {
   "display_name": "Python 3",
   "language": "python",
   "name": "python3"
  },
  "language_info": {
   "codemirror_mode": {
    "name": "ipython",
    "version": 3
   },
   "file_extension": ".py",
   "mimetype": "text/x-python",
   "name": "python",
   "nbconvert_exporter": "python",
   "pygments_lexer": "ipython3",
   "version": "3.7.6"
  }
 },
 "nbformat": 4,
 "nbformat_minor": 4
}
